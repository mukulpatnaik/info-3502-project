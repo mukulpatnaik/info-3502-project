{
 "cells": [
  {
   "cell_type": "code",
   "execution_count": 1,
   "metadata": {},
   "outputs": [],
   "source": [
    "import pandas as pd\n",
    "from datetime import datetime\n",
    "\n",
    "# from psaw import PushshiftAPI\n",
    "# api = PushshiftAPI()"
   ]
  },
  {
   "cell_type": "code",
   "execution_count": null,
   "metadata": {},
   "outputs": [],
   "source": [
    "start_epoch = int(pd.to_datetime('2020-9-01').timestamp())\n",
    "end_epoch = int(pd.to_datetime('2021-06-30').timestamp())"
   ]
  },
  {
   "cell_type": "code",
   "execution_count": null,
   "metadata": {},
   "outputs": [],
   "source": [
    "x = api.search_submissions(after=start_epoch, before=end_epoch, # these are the unix-based timestamps to search between\n",
    "                             subreddit=['wallstreetbets'], \n",
    "                             filter=['permalink','author', 'title', 'score','subreddit','selftext','num_comments'], # list of fields to return\n",
    "                             num_comments=\">100\",\n",
    "                             limit = 100000 # limit on the number of records returned\n",
    "                              ) \n",
    "p = list(x)\n",
    "posts = pd.DataFrame.from_dict(p)"
   ]
  },
  {
   "cell_type": "code",
   "execution_count": null,
   "metadata": {},
   "outputs": [],
   "source": [
    "y = api.search_comments(after=start_epoch, before=end_epoch, # these are the unix-based timestamps to search between\n",
    "                             subreddit=['wallstreetbets'], \n",
    "                             filter=['parent_id','permalink','author', 'title', 'subreddit','body','num_comments','score'],\n",
    "                             score = \">=2\",\n",
    "                             limit = 10 # limit on the number of records returned\n",
    "                              ) \n",
    "c = list(y)\n",
    "comments = pd.DataFrame.from_dict(c)"
   ]
  },
  {
   "cell_type": "code",
   "execution_count": null,
   "metadata": {},
   "outputs": [],
   "source": [
    "posts.head()"
   ]
  },
  {
   "cell_type": "code",
   "execution_count": null,
   "metadata": {},
   "outputs": [],
   "source": [
    "comments.head()"
   ]
  },
  {
   "cell_type": "code",
   "execution_count": null,
   "metadata": {},
   "outputs": [],
   "source": [
    "len(posts)"
   ]
  },
  {
   "cell_type": "code",
   "execution_count": null,
   "metadata": {},
   "outputs": [],
   "source": [
    "posts.to_csv('posts3.csv')\n",
    "comments.to_csv('comments.csv')"
   ]
  },
  {
   "cell_type": "code",
   "execution_count": 1,
   "metadata": {},
   "outputs": [],
   "source": [
    "import pandas as pd\n",
    "from datetime import datetime\n",
    "\n",
    "df = pd.read_csv('posts3.csv')\n",
    "df.drop('Unnamed: 0', axis=1, inplace=True)"
   ]
  },
  {
   "cell_type": "code",
   "execution_count": 2,
   "metadata": {},
   "outputs": [],
   "source": [
    "def convert_date(timestamp):\n",
    "    return datetime.fromtimestamp(timestamp)"
   ]
  },
  {
   "cell_type": "code",
   "execution_count": 3,
   "metadata": {},
   "outputs": [],
   "source": [
    "lst = []\n",
    "for m in df['created_utc']:\n",
    "    #print(convert_date(m))\n",
    "    lst.append(convert_date(m))\n"
   ]
  }
 ],
 "metadata": {
  "hide_input": false,
  "interpreter": {
   "hash": "7b0e541f38a831995614c13e4d363274d2e87c1123aed51a3c1153cebc012c95"
  },
  "kernelspec": {
   "display_name": "Python 3 (ipykernel)",
   "language": "python",
   "name": "python3"
  },
  "language_info": {
   "codemirror_mode": {
    "name": "ipython",
    "version": 3
   },
   "file_extension": ".py",
   "mimetype": "text/x-python",
   "name": "python",
   "nbconvert_exporter": "python",
   "pygments_lexer": "ipython3",
   "version": "3.8.12"
  }
 },
 "nbformat": 4,
 "nbformat_minor": 2
}
